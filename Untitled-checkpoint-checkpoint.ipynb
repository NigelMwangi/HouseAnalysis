{
 "cells": [
  {
   "cell_type": "markdown",
   "id": "ef072961",
   "metadata": {},
   "source": [
    "# <b> ANALYSIS OF NORTHWESTERN COUNTY HOUSES</b>"
   ]
  },
  {
   "cell_type": "markdown",
   "id": "d1db8f53",
   "metadata": {},
   "source": [
    "## Business Understanding"
   ]
  },
  {
   "cell_type": "markdown",
   "id": "32d5d6c1",
   "metadata": {},
   "source": [
    "### Overview"
   ]
  },
  {
   "cell_type": "markdown",
   "id": "8dbd79f2",
   "metadata": {},
   "source": [
    "This project seeks to shed light on the factors influencing housing prices, identify patterns of affordability across different neighborhoods and property types, and explore the impact of specific policies or market conditions on the housing market"
   ]
  },
  {
   "cell_type": "markdown",
   "id": "8a1378f1",
   "metadata": {},
   "source": [
    "### Introduction"
   ]
  },
  {
   "cell_type": "markdown",
   "id": "0c5ff00e",
   "metadata": {},
   "source": [
    "Housing affordability has emerged as a pressing concern in our region, profoundly affecting individuals and families across various socioeconomic backgrounds. \n",
    "This has far-reaching consequences, affecting not only the economic well-being of individuals but also the social fabric and overall sustainability of our communities.\n",
    "The implications of the housing affordability crisis extend beyond mere financial constraints. They encompass issues of social equity, access to essential services, and the ability of individuals to fully participate in the region's economic and social life. \n",
    "\n",
    "Through our data-driven insights derived from extensive analysis of house sales, we can empower to formulate evidence-based policies, interventions, and strategies that nurture inclusive and sustainable communities. we have a responsibility to address these challenges and foster sustainable, thriving communities. \n",
    "\n",
    "\n",
    "Through rigorous analysis and informed decision-making, we can work towards creating a housing landscape that provides affordable options for all residents, promotes social integration, and supports long-term community development.\n",
    "By leveraging data-driven insights from our analysis of house sales, they can formulate evidence-based policies, interventions, and strategies that foster inclusive and sustainable communities"
   ]
  },
  {
   "cell_type": "markdown",
   "id": "6c6e141e",
   "metadata": {},
   "source": [
    "###  Problem Statement\n"
   ]
  },
  {
   "cell_type": "markdown",
   "id": "1072f3c3",
   "metadata": {},
   "source": [
    "Our stakeholders,  the County Government and the County Urban Planning Technical Committee, have the challenge of tackling housing affordability issues in our region. The lack of affordable housing profoundly impacts the well-being of our residents and hinders the overall economic prosperity of the area. Our department is dedicated to formulating strategies and policies that ensure the availability of affordable housing options to meet the diverse needs of our community's socioeconomic groups."
   ]
  },
  {
   "cell_type": "markdown",
   "id": "daffa551",
   "metadata": {},
   "source": [
    "Some of the objectives conserning this business problem would be:\n",
    "\n",
    "\n",
    "1) -Comprehensive Housing Needs Assessment: Conduct an extensive evaluation of the region's housing needs, considering factors such as income levels, projected population growth, and the existing housing stock. This assessment will help us gauge the extent of the affordability gap and get specific areas where intervention is required.\n",
    "\n",
    "2) -Developer Incentives: Devise and implement attractive incentives to encourage real estate developers to prioritize the construction of affordable housing units. Such incentives may encompass tax benefits, density bonuses, streamlined approval processes, or public-private partnerships aimed at fostering affordable housing initiatives.\n",
    "\n",
    "3) -Collaborations and Funding: Establish partnerships with housing agencies, nonprofit organizations, and private developers to secure funding for affordable housing projects. We will leverage grants, subsidies, and low-interest financing programs to support the development and preservation of affordable housing units.\n",
    "\n",
    "4) -Community Engagement: Engage with community stakeholders, including residents, advocacy groups, and housing experts, to gather valuable input and ensure that our affordable housing strategies align with the needs and preferences of the community. We will build public support and address any concerns or misconceptions about affordable housing initiatives through transparent communication.\n"
   ]
  },
  {
   "cell_type": "markdown",
   "id": "d0d1839b",
   "metadata": {},
   "source": [
    "By effectively addressing the housing affordability challenge, we will work towards the creation of inclusive and sustainable communities. This will enhance the quality of life for our residents and ensure a diverse housing stock that caters to the needs of all socioeconomic groups in the region. Furthermore, through comprehensive analysis, we will gain a deeper understanding of the housing market dynamics, and recognize the factors influencing housing prices.\n",
    "\n",
    "\n",
    " Armed with this knowledge, we can make informed decisions and implement targeted policies to promote affordable housing options and encourage responsible development practices\n"
   ]
  },
  {
   "cell_type": "markdown",
   "id": "90d4a6ef",
   "metadata": {},
   "source": [
    "## Data Understanding"
   ]
  },
  {
   "cell_type": "markdown",
   "id": "5a2834b3",
   "metadata": {},
   "source": [
    "To gain a comprehensive understanding of the data, our analysis will encompass an exploration of its features, variables, and relationships. This involves examining the data format and identifying key variables, such as sale prices, property details, and transaction dates. Additionally, we will explore any additional relevant attributes that may influence housing market dynamics."
   ]
  },
  {
   "cell_type": "markdown",
   "id": "500d2435",
   "metadata": {},
   "source": [
    "The Data provided for this project will be the King County House Sales dataset."
   ]
  },
  {
   "cell_type": "markdown",
   "id": "87eb8349",
   "metadata": {},
   "source": [
    "Here are some of the few columns we shall be working with,"
   ]
  },
  {
   "cell_type": "markdown",
   "id": "7d5c2e94",
   "metadata": {},
   "source": [
    "|id.\t|price\t|sqft_lot|condition| grade  |yr_built|  zipcode| Floor|\n",
    "|-------|-------|--------|--------|--------|--------|---------|-----|\n",
    "|1\t    |221900    |5650     |Average |7 Average|1955   |98178     |1  |\n",
    "|2\t    |538000\t| 7240   |Average |7 Average|1951   |98125    |2   |\n",
    "|3\t    |1800000 |10000    |Average |6 Average|1933    |98028    |1   |\n",
    "|4\t    |604000|5000    | Average |7 Average|1965    |98136    |2    |\n",
    "|5\t    |510000 |8080     |Very Good |8 Good  |1987    |98074    |1    |\n",
    "|6\t    |1230000\t|101930   |Average|11 Excelent|2001   |98053    |3    |\n",
    "|7\t   |257500|6819    |Average|7 Average  |1995    |98003    |1    |"
   ]
  },
  {
   "cell_type": "markdown",
   "id": "eeb98200",
   "metadata": {},
   "source": [
    "In the context of analyzing house sales, understanding the data entails identifying and exploring relevant data sources that provide information on property sales, characteristics, and market dynamics. We will assess the quality, completeness, and reliability of the data to ensure its suitability for our analysis."
   ]
  },
  {
   "cell_type": "markdown",
   "id": "5d112ca4",
   "metadata": {},
   "source": [
    "### Justifications\n",
    "Based on the following columns here are some few reasons to consider when justifying the inclusion of specific features\n",
    "1) Property Age- Including variables related to property age or historical sales data enables the analysis of trends over time, identifying market fluctuations, and assessing the impact of property age on prices\n",
    "2) Market Conditions - identify the influence of market forces on prices, and evaluate the impact of economic factors on the housing market\n",
    "3) Property Details - Buyers often consider these factors when making purchasing decisions, and analyzing their influence can provide insights into housing preferences and price differentials.\n",
    "4) Policy Interventions - Allows for an evaluation of their impact on house sales. \n",
    "\n",
    "By selecting features based on their properties and relevance, you can ensure that the analysis focuses on the most influential factors and provides meaningful insights  on house sales analysis."
   ]
  },
  {
   "cell_type": "markdown",
   "id": "0c8f9f10",
   "metadata": {},
   "source": [
    "### Limitations\n",
    "It is crucial to understand and consider some <b> Limitations </b> of the data that may have some implications here.\n",
    "1) <b> Data Completeness: </b> The dataset may not include complete information for all properties or sales transactions in the region.\n",
    "2) <b> Data Quality and Accuracy: </b> The data's accuracy and reliability may vary, depending on the sources from which it was collected.\n",
    "3) <b> Lack of Contextual Information:</b> The dataset may lack additional contextual information that could provide deeper insights into the housing market dynamics\n",
    "4) <b> Data Consistency and Compatibility:</b> When using data from multiple sources, inconsistencies in data formats, variables, or definitions may arise"
   ]
  },
  {
   "cell_type": "markdown",
   "id": "6d34d960",
   "metadata": {},
   "source": [
    "By conducting a thorough data understanding process, we will lay the foundation for meaningful insights and informed decision-making in our analysis of house sales."
   ]
  },
  {
   "cell_type": "markdown",
   "id": "8b85ea2a",
   "metadata": {},
   "source": [
    "## Data Preparation"
   ]
  },
  {
   "cell_type": "markdown",
   "id": "48ba9376",
   "metadata": {},
   "source": [
    "This involves transforming, cleaning, and organizing raw data to ensure its quality, consistency, and suitability for analysis. The process typically includes several key steps:"
   ]
  },
  {
   "cell_type": "markdown",
   "id": "862b895e",
   "metadata": {},
   "source": [
    "### Importing Libraries"
   ]
  },
  {
   "cell_type": "code",
   "execution_count": 1,
   "id": "60ff2bde",
   "metadata": {},
   "outputs": [],
   "source": [
    "# importing relevant libraries\n",
    "import pandas as pd\n",
    "import numpy as np\n",
    "import matplotlib.pyplot as plt\n",
    "import seaborn as sns\n",
    "import statsmodels.api as sm\n",
    "\n",
    "from sklearn.preprocessing import StandardScaler\n",
    "from sklearn.linear_model import LinearRegression\n",
    "from sklearn.model_selection import train_test_split\n",
    "from sklearn.metrics import mean_squared_error\n",
    "from sklearn.feature_selection import SelectKBest, f_regression"
   ]
  },
  {
   "cell_type": "markdown",
   "id": "6c7a0523",
   "metadata": {},
   "source": [
    "### Reading the Data"
   ]
  },
  {
   "cell_type": "code",
   "execution_count": 15,
   "id": "68b6ae10",
   "metadata": {
    "scrolled": false
   },
   "outputs": [
    {
     "data": {
      "text/html": [
       "<div>\n",
       "<style scoped>\n",
       "    .dataframe tbody tr th:only-of-type {\n",
       "        vertical-align: middle;\n",
       "    }\n",
       "\n",
       "    .dataframe tbody tr th {\n",
       "        vertical-align: top;\n",
       "    }\n",
       "\n",
       "    .dataframe thead th {\n",
       "        text-align: right;\n",
       "    }\n",
       "</style>\n",
       "<table border=\"1\" class=\"dataframe\">\n",
       "  <thead>\n",
       "    <tr style=\"text-align: right;\">\n",
       "      <th></th>\n",
       "      <th>id</th>\n",
       "      <th>date</th>\n",
       "      <th>price</th>\n",
       "      <th>bedrooms</th>\n",
       "      <th>bathrooms</th>\n",
       "      <th>sqft_living</th>\n",
       "      <th>sqft_lot</th>\n",
       "      <th>floors</th>\n",
       "      <th>waterfront</th>\n",
       "      <th>view</th>\n",
       "      <th>...</th>\n",
       "      <th>grade</th>\n",
       "      <th>sqft_above</th>\n",
       "      <th>sqft_basement</th>\n",
       "      <th>yr_built</th>\n",
       "      <th>yr_renovated</th>\n",
       "      <th>zipcode</th>\n",
       "      <th>lat</th>\n",
       "      <th>long</th>\n",
       "      <th>sqft_living15</th>\n",
       "      <th>sqft_lot15</th>\n",
       "    </tr>\n",
       "  </thead>\n",
       "  <tbody>\n",
       "    <tr>\n",
       "      <th>0</th>\n",
       "      <td>7129300520</td>\n",
       "      <td>10/13/2014</td>\n",
       "      <td>221900.0</td>\n",
       "      <td>3</td>\n",
       "      <td>1.00</td>\n",
       "      <td>1180</td>\n",
       "      <td>5650</td>\n",
       "      <td>1.0</td>\n",
       "      <td>NaN</td>\n",
       "      <td>NONE</td>\n",
       "      <td>...</td>\n",
       "      <td>7 Average</td>\n",
       "      <td>1180</td>\n",
       "      <td>0.0</td>\n",
       "      <td>1955</td>\n",
       "      <td>0.0</td>\n",
       "      <td>98178</td>\n",
       "      <td>47.5112</td>\n",
       "      <td>-122.257</td>\n",
       "      <td>1340</td>\n",
       "      <td>5650</td>\n",
       "    </tr>\n",
       "    <tr>\n",
       "      <th>1</th>\n",
       "      <td>6414100192</td>\n",
       "      <td>12/9/2014</td>\n",
       "      <td>538000.0</td>\n",
       "      <td>3</td>\n",
       "      <td>2.25</td>\n",
       "      <td>2570</td>\n",
       "      <td>7242</td>\n",
       "      <td>2.0</td>\n",
       "      <td>NO</td>\n",
       "      <td>NONE</td>\n",
       "      <td>...</td>\n",
       "      <td>7 Average</td>\n",
       "      <td>2170</td>\n",
       "      <td>400.0</td>\n",
       "      <td>1951</td>\n",
       "      <td>1991.0</td>\n",
       "      <td>98125</td>\n",
       "      <td>47.7210</td>\n",
       "      <td>-122.319</td>\n",
       "      <td>1690</td>\n",
       "      <td>7639</td>\n",
       "    </tr>\n",
       "    <tr>\n",
       "      <th>2</th>\n",
       "      <td>5631500400</td>\n",
       "      <td>2/25/2015</td>\n",
       "      <td>180000.0</td>\n",
       "      <td>2</td>\n",
       "      <td>1.00</td>\n",
       "      <td>770</td>\n",
       "      <td>10000</td>\n",
       "      <td>1.0</td>\n",
       "      <td>NO</td>\n",
       "      <td>NONE</td>\n",
       "      <td>...</td>\n",
       "      <td>6 Low Average</td>\n",
       "      <td>770</td>\n",
       "      <td>0.0</td>\n",
       "      <td>1933</td>\n",
       "      <td>NaN</td>\n",
       "      <td>98028</td>\n",
       "      <td>47.7379</td>\n",
       "      <td>-122.233</td>\n",
       "      <td>2720</td>\n",
       "      <td>8062</td>\n",
       "    </tr>\n",
       "    <tr>\n",
       "      <th>3</th>\n",
       "      <td>2487200875</td>\n",
       "      <td>12/9/2014</td>\n",
       "      <td>604000.0</td>\n",
       "      <td>4</td>\n",
       "      <td>3.00</td>\n",
       "      <td>1960</td>\n",
       "      <td>5000</td>\n",
       "      <td>1.0</td>\n",
       "      <td>NO</td>\n",
       "      <td>NONE</td>\n",
       "      <td>...</td>\n",
       "      <td>7 Average</td>\n",
       "      <td>1050</td>\n",
       "      <td>910.0</td>\n",
       "      <td>1965</td>\n",
       "      <td>0.0</td>\n",
       "      <td>98136</td>\n",
       "      <td>47.5208</td>\n",
       "      <td>-122.393</td>\n",
       "      <td>1360</td>\n",
       "      <td>5000</td>\n",
       "    </tr>\n",
       "    <tr>\n",
       "      <th>4</th>\n",
       "      <td>1954400510</td>\n",
       "      <td>2/18/2015</td>\n",
       "      <td>510000.0</td>\n",
       "      <td>3</td>\n",
       "      <td>2.00</td>\n",
       "      <td>1680</td>\n",
       "      <td>8080</td>\n",
       "      <td>1.0</td>\n",
       "      <td>NO</td>\n",
       "      <td>NONE</td>\n",
       "      <td>...</td>\n",
       "      <td>8 Good</td>\n",
       "      <td>1680</td>\n",
       "      <td>0.0</td>\n",
       "      <td>1987</td>\n",
       "      <td>0.0</td>\n",
       "      <td>98074</td>\n",
       "      <td>47.6168</td>\n",
       "      <td>-122.045</td>\n",
       "      <td>1800</td>\n",
       "      <td>7503</td>\n",
       "    </tr>\n",
       "  </tbody>\n",
       "</table>\n",
       "<p>5 rows × 21 columns</p>\n",
       "</div>"
      ],
      "text/plain": [
       "           id        date     price  bedrooms  bathrooms  sqft_living   \n",
       "0  7129300520  10/13/2014  221900.0         3       1.00         1180  \\\n",
       "1  6414100192   12/9/2014  538000.0         3       2.25         2570   \n",
       "2  5631500400   2/25/2015  180000.0         2       1.00          770   \n",
       "3  2487200875   12/9/2014  604000.0         4       3.00         1960   \n",
       "4  1954400510   2/18/2015  510000.0         3       2.00         1680   \n",
       "\n",
       "   sqft_lot  floors waterfront  view  ...          grade sqft_above   \n",
       "0      5650     1.0        NaN  NONE  ...      7 Average       1180  \\\n",
       "1      7242     2.0         NO  NONE  ...      7 Average       2170   \n",
       "2     10000     1.0         NO  NONE  ...  6 Low Average        770   \n",
       "3      5000     1.0         NO  NONE  ...      7 Average       1050   \n",
       "4      8080     1.0         NO  NONE  ...         8 Good       1680   \n",
       "\n",
       "   sqft_basement yr_built  yr_renovated  zipcode      lat     long   \n",
       "0            0.0     1955           0.0    98178  47.5112 -122.257  \\\n",
       "1          400.0     1951        1991.0    98125  47.7210 -122.319   \n",
       "2            0.0     1933           NaN    98028  47.7379 -122.233   \n",
       "3          910.0     1965           0.0    98136  47.5208 -122.393   \n",
       "4            0.0     1987           0.0    98074  47.6168 -122.045   \n",
       "\n",
       "   sqft_living15  sqft_lot15  \n",
       "0           1340        5650  \n",
       "1           1690        7639  \n",
       "2           2720        8062  \n",
       "3           1360        5000  \n",
       "4           1800        7503  \n",
       "\n",
       "[5 rows x 21 columns]"
      ]
     },
     "execution_count": 15,
     "metadata": {},
     "output_type": "execute_result"
    }
   ],
   "source": [
    "# Loading the Data\n",
    "data= pd.read_csv(r\"C:\\\\Users\\\\hp 14s\\\\Desktop\\\\Phase TWO Projc\\\\Dataset\\\\kc_house_data.csv\")\n",
    "data.head()"
   ]
  },
  {
   "cell_type": "markdown",
   "id": "52122b06",
   "metadata": {},
   "source": [
    "By ensuring data completeness, accuracy, and consistency, and by engineering features that capture important information, we can create a more comprehensive and representative dataset for analysis. "
   ]
  },
  {
   "cell_type": "markdown",
   "id": "19412083",
   "metadata": {},
   "source": [
    "### Data Wrangling"
   ]
  },
  {
   "cell_type": "markdown",
   "id": "53140ac7",
   "metadata": {},
   "source": [
    "This will enables take the few columns that are relevant to the Process."
   ]
  },
  {
   "cell_type": "code",
   "execution_count": 3,
   "id": "96e0d0c5",
   "metadata": {},
   "outputs": [
    {
     "data": {
      "text/html": [
       "<div>\n",
       "<style scoped>\n",
       "    .dataframe tbody tr th:only-of-type {\n",
       "        vertical-align: middle;\n",
       "    }\n",
       "\n",
       "    .dataframe tbody tr th {\n",
       "        vertical-align: top;\n",
       "    }\n",
       "\n",
       "    .dataframe thead th {\n",
       "        text-align: right;\n",
       "    }\n",
       "</style>\n",
       "<table border=\"1\" class=\"dataframe\">\n",
       "  <thead>\n",
       "    <tr style=\"text-align: right;\">\n",
       "      <th></th>\n",
       "      <th>id</th>\n",
       "      <th>price</th>\n",
       "      <th>sqft_lot</th>\n",
       "      <th>bedrooms</th>\n",
       "      <th>floors</th>\n",
       "      <th>grade</th>\n",
       "      <th>condition</th>\n",
       "      <th>yr_built</th>\n",
       "      <th>zipcode</th>\n",
       "      <th>yr_renovated</th>\n",
       "    </tr>\n",
       "  </thead>\n",
       "  <tbody>\n",
       "    <tr>\n",
       "      <th>0</th>\n",
       "      <td>7129300520</td>\n",
       "      <td>221900.0</td>\n",
       "      <td>5650</td>\n",
       "      <td>3</td>\n",
       "      <td>1.0</td>\n",
       "      <td>7 Average</td>\n",
       "      <td>Average</td>\n",
       "      <td>1955</td>\n",
       "      <td>98178</td>\n",
       "      <td>0.0</td>\n",
       "    </tr>\n",
       "    <tr>\n",
       "      <th>1</th>\n",
       "      <td>6414100192</td>\n",
       "      <td>538000.0</td>\n",
       "      <td>7242</td>\n",
       "      <td>3</td>\n",
       "      <td>2.0</td>\n",
       "      <td>7 Average</td>\n",
       "      <td>Average</td>\n",
       "      <td>1951</td>\n",
       "      <td>98125</td>\n",
       "      <td>1991.0</td>\n",
       "    </tr>\n",
       "    <tr>\n",
       "      <th>2</th>\n",
       "      <td>5631500400</td>\n",
       "      <td>180000.0</td>\n",
       "      <td>10000</td>\n",
       "      <td>2</td>\n",
       "      <td>1.0</td>\n",
       "      <td>6 Low Average</td>\n",
       "      <td>Average</td>\n",
       "      <td>1933</td>\n",
       "      <td>98028</td>\n",
       "      <td>NaN</td>\n",
       "    </tr>\n",
       "    <tr>\n",
       "      <th>3</th>\n",
       "      <td>2487200875</td>\n",
       "      <td>604000.0</td>\n",
       "      <td>5000</td>\n",
       "      <td>4</td>\n",
       "      <td>1.0</td>\n",
       "      <td>7 Average</td>\n",
       "      <td>Very Good</td>\n",
       "      <td>1965</td>\n",
       "      <td>98136</td>\n",
       "      <td>0.0</td>\n",
       "    </tr>\n",
       "    <tr>\n",
       "      <th>4</th>\n",
       "      <td>1954400510</td>\n",
       "      <td>510000.0</td>\n",
       "      <td>8080</td>\n",
       "      <td>3</td>\n",
       "      <td>1.0</td>\n",
       "      <td>8 Good</td>\n",
       "      <td>Average</td>\n",
       "      <td>1987</td>\n",
       "      <td>98074</td>\n",
       "      <td>0.0</td>\n",
       "    </tr>\n",
       "  </tbody>\n",
       "</table>\n",
       "</div>"
      ],
      "text/plain": [
       "           id     price  sqft_lot  bedrooms  floors          grade  condition   \n",
       "0  7129300520  221900.0      5650         3     1.0      7 Average    Average  \\\n",
       "1  6414100192  538000.0      7242         3     2.0      7 Average    Average   \n",
       "2  5631500400  180000.0     10000         2     1.0  6 Low Average    Average   \n",
       "3  2487200875  604000.0      5000         4     1.0      7 Average  Very Good   \n",
       "4  1954400510  510000.0      8080         3     1.0         8 Good    Average   \n",
       "\n",
       "   yr_built  zipcode  yr_renovated  \n",
       "0      1955    98178           0.0  \n",
       "1      1951    98125        1991.0  \n",
       "2      1933    98028           NaN  \n",
       "3      1965    98136           0.0  \n",
       "4      1987    98074           0.0  "
      ]
     },
     "execution_count": 3,
     "metadata": {},
     "output_type": "execute_result"
    }
   ],
   "source": [
    "# Selecting the using Columns\n",
    "data_new= data[[\"id\",\"price\",\"sqft_lot\",\"bedrooms\",\"floors\",\"grade\",\"condition\",\"yr_built\",\"zipcode\",\"yr_renovated\"]]\n",
    "data_new.head()"
   ]
  },
  {
   "cell_type": "code",
   "execution_count": 4,
   "id": "7e3c26b6",
   "metadata": {},
   "outputs": [
    {
     "data": {
      "text/html": [
       "<div>\n",
       "<style scoped>\n",
       "    .dataframe tbody tr th:only-of-type {\n",
       "        vertical-align: middle;\n",
       "    }\n",
       "\n",
       "    .dataframe tbody tr th {\n",
       "        vertical-align: top;\n",
       "    }\n",
       "\n",
       "    .dataframe thead th {\n",
       "        text-align: right;\n",
       "    }\n",
       "</style>\n",
       "<table border=\"1\" class=\"dataframe\">\n",
       "  <thead>\n",
       "    <tr style=\"text-align: right;\">\n",
       "      <th></th>\n",
       "      <th>id</th>\n",
       "      <th>price</th>\n",
       "      <th>sqft_lot</th>\n",
       "      <th>bedrooms</th>\n",
       "      <th>floors</th>\n",
       "      <th>grade</th>\n",
       "      <th>condition</th>\n",
       "      <th>yr_built</th>\n",
       "      <th>zipcode</th>\n",
       "    </tr>\n",
       "  </thead>\n",
       "  <tbody>\n",
       "    <tr>\n",
       "      <th>0</th>\n",
       "      <td>7129300520</td>\n",
       "      <td>221900.0</td>\n",
       "      <td>5650</td>\n",
       "      <td>3</td>\n",
       "      <td>1.0</td>\n",
       "      <td>7 Average</td>\n",
       "      <td>Average</td>\n",
       "      <td>1955</td>\n",
       "      <td>98178</td>\n",
       "    </tr>\n",
       "    <tr>\n",
       "      <th>1</th>\n",
       "      <td>6414100192</td>\n",
       "      <td>538000.0</td>\n",
       "      <td>7242</td>\n",
       "      <td>3</td>\n",
       "      <td>2.0</td>\n",
       "      <td>7 Average</td>\n",
       "      <td>Average</td>\n",
       "      <td>1951</td>\n",
       "      <td>98125</td>\n",
       "    </tr>\n",
       "    <tr>\n",
       "      <th>2</th>\n",
       "      <td>5631500400</td>\n",
       "      <td>180000.0</td>\n",
       "      <td>10000</td>\n",
       "      <td>2</td>\n",
       "      <td>1.0</td>\n",
       "      <td>6 Low Average</td>\n",
       "      <td>Average</td>\n",
       "      <td>1933</td>\n",
       "      <td>98028</td>\n",
       "    </tr>\n",
       "    <tr>\n",
       "      <th>3</th>\n",
       "      <td>2487200875</td>\n",
       "      <td>604000.0</td>\n",
       "      <td>5000</td>\n",
       "      <td>4</td>\n",
       "      <td>1.0</td>\n",
       "      <td>7 Average</td>\n",
       "      <td>Very Good</td>\n",
       "      <td>1965</td>\n",
       "      <td>98136</td>\n",
       "    </tr>\n",
       "    <tr>\n",
       "      <th>4</th>\n",
       "      <td>1954400510</td>\n",
       "      <td>510000.0</td>\n",
       "      <td>8080</td>\n",
       "      <td>3</td>\n",
       "      <td>1.0</td>\n",
       "      <td>8 Good</td>\n",
       "      <td>Average</td>\n",
       "      <td>1987</td>\n",
       "      <td>98074</td>\n",
       "    </tr>\n",
       "  </tbody>\n",
       "</table>\n",
       "</div>"
      ],
      "text/plain": [
       "           id     price  sqft_lot  bedrooms  floors          grade  condition   \n",
       "0  7129300520  221900.0      5650         3     1.0      7 Average    Average  \\\n",
       "1  6414100192  538000.0      7242         3     2.0      7 Average    Average   \n",
       "2  5631500400  180000.0     10000         2     1.0  6 Low Average    Average   \n",
       "3  2487200875  604000.0      5000         4     1.0      7 Average  Very Good   \n",
       "4  1954400510  510000.0      8080         3     1.0         8 Good    Average   \n",
       "\n",
       "   yr_built  zipcode  \n",
       "0      1955    98178  \n",
       "1      1951    98125  \n",
       "2      1933    98028  \n",
       "3      1965    98136  \n",
       "4      1987    98074  "
      ]
     },
     "execution_count": 4,
     "metadata": {},
     "output_type": "execute_result"
    }
   ],
   "source": [
    "# Dropping a column\n",
    "data_new1= data_new.drop(['yr_renovated'],axis=1)\n",
    "data_new1.head()"
   ]
  },
  {
   "cell_type": "markdown",
   "id": "0d5355e1",
   "metadata": {},
   "source": [
    "By specifying the column to drop using either column labels  we can effectively reduce the dimensionality of the dataset and focus on the most important variables for the analysis.\n",
    "This helps avoid inadvertent data loss and ensures that the analysis focuses on the most relevant variables.\n",
    "for easy customization and adaptation to different column subsets, enhancing the code's reusability and efficiency.\n"
   ]
  },
  {
   "cell_type": "markdown",
   "id": "43a84247",
   "metadata": {},
   "source": [
    "This, in turn, leads to more accurate models, better predictions, and more actionable insights for addressing housing market challenges, informing policy decisions, and facilitating sustainable community development."
   ]
  },
  {
   "cell_type": "markdown",
   "id": "23cdb849",
   "metadata": {},
   "source": [
    "## Modeling"
   ]
  },
  {
   "cell_type": "markdown",
   "id": "fe7edce1",
   "metadata": {},
   "source": [
    "By leveraging modeling techniques, we can develop predictive models that estimate house prices based on key variables such as property size, location, amenities, and market conditions. These models help us understand the underlying drivers of house prices, identify influential factors, and make informed predictions about future trends\n",
    " \n",
    " <b>we </b>can quantify the impact of different variables on house prices, assess the relative importance of each factor, and identify potential interactions or nonlinear relationships. This enables us to develop a deeper understanding of the housing market and the dynamics that shape it."
   ]
  },
  {
   "cell_type": "markdown",
   "id": "7ebeaf2b",
   "metadata": {},
   "source": [
    "This model will allow us to predict house Prices based on several features"
   ]
  },
  {
   "cell_type": "code",
   "execution_count": 5,
   "id": "2c0da603",
   "metadata": {},
   "outputs": [],
   "source": [
    "# Convert non-numeric features to ordinary data\n",
    "grade_mapping = {'6 Low Average': 1, '7 Average': 2, '8 Good': 3}\n",
    "data['grade'] = data['grade'].map(grade_mapping)\n",
    "\n",
    "data['condition'] = (data['condition'] == 'Average').astype(int)\n"
   ]
  },
  {
   "cell_type": "code",
   "execution_count": 6,
   "id": "d4d1a7b3",
   "metadata": {},
   "outputs": [
    {
     "name": "stdout",
     "output_type": "stream",
     "text": [
      "Simple Linear Regression Mean Squared Error: 129173354169.24435\n"
     ]
    }
   ],
   "source": [
    "# Create a simple linear regression model\n",
    "X_simple = data[['sqft_lot']]\n",
    "y_simple = data['price']\n",
    "\n",
    "X_train_simple, X_test_simple, y_train_simple, y_test_simple = train_test_split(X_simple, y_simple, test_size=0.2, random_state=42)\n",
    "\n",
    "simple_model = LinearRegression()\n",
    "simple_model.fit(X_train_simple, y_train_simple)\n",
    "\n",
    "y_pred_simple = simple_model.predict(X_test_simple)\n",
    "\n",
    "mse_simple = mean_squared_error(y_test_simple, y_pred_simple)\n",
    "print('Simple Linear Regression Mean Squared Error:', mse_simple)"
   ]
  },
  {
   "cell_type": "code",
   "execution_count": 8,
   "id": "a0a9e8b8",
   "metadata": {},
   "outputs": [
    {
     "name": "stdout",
     "output_type": "stream",
     "text": [
      "Multiple Linear Regression Mean Squared Error: 102183905140.71199\n"
     ]
    }
   ],
   "source": [
    "# Create a multiple linear regression model\n",
    "X_multiple = data[['sqft_lot', 'bedrooms', 'floors', 'grade', 'condition',  'zipcode']]\n",
    "y_multiple = data['price']\n",
    "\n",
    "data['grade'] = data['grade'].fillna(0)\n",
    "\n",
    "X_train_multiple, X_test_multiple, y_train_multiple, y_test_multiple = train_test_split(X_multiple, y_multiple, test_size=0.2, random_state=42)\n",
    "\n",
    "multiple_model = LinearRegression()\n",
    "multiple_model.fit(X_train_multiple, y_train_multiple)\n",
    "\n",
    "y_pred_multiple = multiple_model.predict(X_test_multiple)\n",
    "\n",
    "mse_multiple = mean_squared_error(y_test_multiple, y_pred_multiple)\n",
    "print('Multiple Linear Regression Mean Squared Error:', mse_multiple)"
   ]
  },
  {
   "cell_type": "code",
   "execution_count": 9,
   "id": "7207cd25",
   "metadata": {},
   "outputs": [
    {
     "name": "stdout",
     "output_type": "stream",
     "text": [
      "Model Coefficients: [ 1.90195268e-02  3.77413856e+04  5.12987087e+04 -3.27101482e+03\n",
      "  1.82810772e+01  4.24953010e+05  1.12477558e+06  2.83575456e+06\n",
      " -9.66314232e+05 -9.31005037e+05 -9.11976287e+05 -8.50997763e+05\n",
      " -7.07819727e+05 -5.36845528e+05 -2.91990015e+05 -3.45325262e+04\n",
      "  2.44980902e+04 -4.37706350e+04  9.14947824e+04]\n",
      "Mean Squared Error: 59626108204.153725\n"
     ]
    }
   ],
   "source": [
    "df = pd.DataFrame(data_new1)\n",
    "#prepairng the data for modeling\n",
    "# Convert categorical variables into dummy/indicator variables\n",
    "df = pd.get_dummies(df, columns=['grade', 'condition'], drop_first=True)\n",
    "\n",
    "# Split the data into features (X) and target variable (y)\n",
    "X = df.drop(['id', 'price'], axis=1)\n",
    "y = df['price']\n",
    "\n",
    "# Split the data into training and testing sets\n",
    "X_train, X_test, y_train, y_test = train_test_split(X, y, test_size=0.2, random_state=42)\n",
    "\n",
    "# Train the linear regression model\n",
    "model = LinearRegression()\n",
    "model.fit(X_train, y_train)\n",
    "\n",
    "# Evaluate the model\n",
    "# Predict on the test set\n",
    "y_pred = model.predict(X_test)\n",
    "\n",
    "# Calculate mean squared error\n",
    "mse = mean_squared_error(y_test, y_pred)\n",
    "\n",
    "print(\"Model Coefficients:\", model.coef_)\n",
    "print(\"Mean Squared Error:\", mse)\n"
   ]
  },
  {
   "cell_type": "markdown",
   "id": "7b9857d6",
   "metadata": {},
   "source": [
    "By scaling the numerical features, you ensure that they are on a similar scale and prevent them from dominating the model. The feature selection technique helps identify the most relevant features for prediction, reducing noise and improving model interpretability."
   ]
  },
  {
   "cell_type": "code",
   "execution_count": 10,
   "id": "dd3b17ce",
   "metadata": {},
   "outputs": [
    {
     "name": "stdout",
     "output_type": "stream",
     "text": [
      "Model Coefficients: [ 81653.27269169  38081.28201772 107934.04679975  97059.4873869\n",
      " -78330.61955702]\n",
      "Mean Squared Error: 85554201088.67642\n"
     ]
    }
   ],
   "source": [
    "df = pd.DataFrame(data_new1)\n",
    "# Convert categorical variables into dummy/indicator variables\n",
    "df = pd.get_dummies(df, columns=['grade', 'condition'], drop_first=True)\n",
    "\n",
    "# Split the data into features (X) and target variable (y)\n",
    "X = df.drop(['id', 'price'], axis=1)\n",
    "y = df['price']\n",
    "\n",
    "# Split the data into training and testing sets\n",
    "X_train, X_test, y_train, y_test = train_test_split(X, y, test_size=0.2, random_state=42)\n",
    "\n",
    "# Scale the numerical features\n",
    "scaler = StandardScaler()\n",
    "X_train_scaled = scaler.fit_transform(X_train)\n",
    "X_test_scaled = scaler.transform(X_test)\n",
    "\n",
    "# Perform feature selection using SelectKBest and f_regression\n",
    "selector = SelectKBest(score_func=f_regression, k=5)\n",
    "X_train_selected = selector.fit_transform(X_train_scaled, y_train)\n",
    "X_test_selected = selector.transform(X_test_scaled)\n",
    "\n",
    "model = LinearRegression()\n",
    "model.fit(X_train_selected, y_train)\n",
    "\n",
    "# Predict on the test set\n",
    "y_pred = model.predict(X_test_selected)\n",
    "\n",
    "# Calculate mean squared error\n",
    "mse = mean_squared_error(y_test, y_pred)\n",
    "\n",
    "print(\"Model Coefficients:\", model.coef_)\n",
    "print(\"Mean Squared Error:\", mse)"
   ]
  },
  {
   "cell_type": "markdown",
   "id": "1f9758a5",
   "metadata": {},
   "source": [
    "With the training set, It  predicts the house prices for the test set and calculates the mean squared error as the evaluation metric"
   ]
  },
  {
   "cell_type": "markdown",
   "id": "1e3946e7",
   "metadata": {},
   "source": [
    "## Regression Results"
   ]
  },
  {
   "cell_type": "markdown",
   "id": "d7e613a5",
   "metadata": {},
   "source": [
    "We summarize the key findings from the regression analysis"
   ]
  },
  {
   "cell_type": "markdown",
   "id": "a70a1ce5",
   "metadata": {},
   "source": [
    "To identify the features and interpret their coefficients in plain language \n",
    "\n",
    "<b> This </b>are some Regression Findings\n",
    "1) <b> Grade: </b>The coefficients for different grade levels would reflect the impact of the grade on house prices. Higher-grade levels (e.g., \"Good,\" \"Very Good,\" etc.) are expected to have positive coefficients, indicating that houses with higher grades tend to be priced higher due to their superior quality.\n",
    "2) <b>Condition: </b>The coefficients associated with different condition levels would indicate the impact of the condition on house prices. Higher coefficients for better condition levels (e.g. Good.) suggest that well-maintained houses command higher prices.\n",
    "3) <b> Zipcode:</b> Positive coefficients for specific zipcodes suggest that houses located in those areas tend to be priced higher, implying that certain zipcodes are associated with higher desirability or better amenities.\n",
    "4) <b> Square Footage (sqft_lot):</b> A positive coefficient for square footage suggests that the larger lot sizes are associated with higher house prices. In plain language, it means that as the size of the lot increases, the price of the house tends to increase as well."
   ]
  },
  {
   "cell_type": "markdown",
   "id": "02666a61",
   "metadata": {},
   "source": [
    "Some of the Actions Our County Goverment or  Urban Planning Technical Committee can respond to this actions are:\n",
    " 1) Monitor and Adapt Housing Policies: Our Stake holders should regularly monitor the impact of housing policies on the market. By analyzing the regression results over time, Our stake holders can identify trends, evaluate the effectiveness of existing policies, and adapt strategies accordingly. This can include reassessing zoning regulations, affordability programs, or tax incentives to ensure they align with the identified predictors of house prices and address the evolving needs of the community.\n",
    " 2) Educate Buyers and Sellers: Stakeholders can play a role in educating buyers and sellers about the factors influencing house prices. By disseminating information about the significance of property size, neighborhood safety, and proximity to public transportation, stakeholders can empower individuals to make informed decisions when buying or selling properties. This can foster a more transparent and efficient housing market.\n",
    " 3) Develop Neighborhood Improvement Initiatives: Stakeholders can focus on improving neighborhood safety to enhance property values. This can involve implementing community policing programs, enhancing public lighting, or increasing surveillance measures. By prioritizing initiatives that address safety concerns, stakeholders can attract potential buyers and increase demand for properties in safer neighborhoods."
   ]
  },
  {
   "cell_type": "markdown",
   "id": "74e0f12e",
   "metadata": {},
   "source": [
    "## Visualizations"
   ]
  },
  {
   "cell_type": "markdown",
   "id": "2422984b",
   "metadata": {},
   "source": [
    "This visualization allows stakeholders to visually identify the positive relationship between property size and sale price, understand the dispersion of data points around the regression line, and potentially identify any neighborhood-specific pricing patterns."
   ]
  },
  {
   "cell_type": "code",
   "execution_count": 11,
   "id": "8496eb96",
   "metadata": {},
   "outputs": [
    {
     "name": "stderr",
     "output_type": "stream",
     "text": [
      "C:\\Users\\hp 14s\\AppData\\Local\\Temp\\ipykernel_17556\\1328608623.py:5: UserWarning: Ignoring `palette` because no `hue` variable has been assigned.\n",
      "  sns.scatterplot(data=data, x='sqft_lot', y='price', palette='Set2', alpha=0.7, s=80)\n",
      "No artists with labels found to put in legend.  Note that artists whose label start with an underscore are ignored when legend() is called with no argument.\n"
     ]
    },
    {
     "data": {
      "image/png": "[encoded data removed]",
      "text/plain": [
       "<Figure size 800x600 with 1 Axes>"
      ]
     },
     "metadata": {},
     "output_type": "display_data"
    }
   ],
   "source": [
    "# Scatter plot with regression line and color-coded data points\n",
    "df = pd.DataFrame(data_new1)\n",
    "plt.figure(figsize=(8, 6))\n",
    "sns.regplot(data=data, x='sqft_lot', y='price', scatter_kws={'s': 80, 'alpha': 0.7}, line_kws={'color': 'red'})\n",
    "sns.scatterplot(data=data, x='sqft_lot', y='price', palette='Set2', alpha=0.7, s=80)\n",
    "plt.xlabel('Property Size (sqft_lot)')\n",
    "plt.ylabel('Sale Price')\n",
    "plt.title('Property Size vs. Sale Price')\n",
    "plt.legend(title='Zipcode')\n",
    "plt.show()"
   ]
  },
  {
   "cell_type": "markdown",
   "id": "553b7b08",
   "metadata": {},
   "source": [
    "<b> Identification of Patterns:- </b> The scatter plot helps county government identify any patterns or trends in the data. They can observe if there is a general positive or negative correlation between property size and sale price. For example, if the majority of the points cluster in an upward direction from left to right, it indicates a positive correlation, suggesting that larger properties tend to have higher sale prices. \n",
    "\n",
    "<b> Also, </b> The scatter plot allows them to evaluate the dispersion of data points around the general trend line. If the data points are tightly clustered around the trend line, it indicates a more predictable relationship between property size and sale price.\n",
    "It helps In understanding pricing dynamics, identify patterns, detect outliers, and make informed decisions regarding property valuation, market positioning, and pricing strategies."
   ]
  },
  {
   "cell_type": "code",
   "execution_count": 12,
   "id": "57aaa53b",
   "metadata": {},
   "outputs": [
    {
     "data": {
      "image/png": "[encoded data removed]",
      "text/plain": [
       "<Figure size 1200x600 with 1 Axes>"
      ]
     },
     "metadata": {},
     "output_type": "display_data"
    }
   ],
   "source": [
    "# Specify the desired zipcodes\n",
    "\n",
    "num_zipcodes = 10\n",
    "\n",
    "# Filter the data for the first num_zipcodes zip codes\n",
    "filtered_data = data[data['zipcode'].isin(data['zipcode'].unique()[:num_zipcodes])]\n",
    "\n",
    "# Calculate the average sale price for each neighborhood\n",
    "average_prices = filtered_data.groupby('zipcode')['price'].mean().reset_index()\n",
    "average_prices = average_prices.rename(columns={'price': 'average_sale_price'})\n",
    "\n",
    "# Sort the neighborhoods based on the average sale price\n",
    "average_prices = average_prices.sort_values('average_sale_price', ascending=True)\n",
    "\n",
    "# Bar plot of Neighborhood Safety Index vs. Average Sale Price\n",
    "plt.figure(figsize=(12, 6))\n",
    "sns.barplot(data=average_prices, x='zipcode', y='average_sale_price', color='skyblue')\n",
    "plt.xlabel('Zipcode')\n",
    "plt.ylabel('Average Sale Price')\n",
    "plt.title('Zipcode Index vs. Average Sale Price ')\n",
    "plt.xticks(rotation=90)\n",
    "plt.show()"
   ]
  },
  {
   "cell_type": "markdown",
   "id": "d3e38279",
   "metadata": {},
   "source": [
    "<b>Comparison of Average Sale Prices:- </b> The plot allows county Government to visually compare the average sale prices across different neighborhoods. Each bar represents a neighborhood (identified by the zipcode), and the height of the bar corresponds to the average sale price for that neighborhood. By comparing the heights of the bars,they can easily identify neighborhoods with higher or lower average sale prices.\n",
    "\n"
   ]
  },
  {
   "cell_type": "code",
   "execution_count": 26,
   "id": "c31fd2e5",
   "metadata": {},
   "outputs": [
    {
     "data": {
      "image/png": "[encoded data removed]",
      "text/plain": [
       "<Figure size 640x480 with 1 Axes>"
      ]
     },
     "metadata": {},
     "output_type": "display_data"
    }
   ],
   "source": [
    "\n",
    "# Calculate price per square foot\n",
    "price_per_sqft = data['price'] / data['sqft_lot']\n",
    "\n",
    "# Set affordability thresholds\n",
    "affordability_thresholds = [100, 200, 300, 400, 500, 600, 700, 800]\n",
    "\n",
    "# Count the number of properties within each affordability range\n",
    "counts, bins, _ = plt.hist(price_per_sqft, bins=affordability_thresholds, edgecolor='black', color='skyblue', alpha=0.8)\n",
    "\n",
    "# Customize the plot\n",
    "plt.xlabel('Price per Square Foot')\n",
    "plt.ylabel('Number of Properties')\n",
    "plt.title('Distribution of Housing Affordability')\n",
    "plt.xticks(affordability_thresholds)\n",
    "plt.grid(axis='y', linestyle='--')\n",
    "plt.tight_layout()\n",
    "\n",
    "# Add annotations for the counts\n",
    "for count, bin_value in zip(counts, bins):\n",
    "    plt.annotate(f'{int(count)}', xy=(bin_value + (bins[1] - bins[0]) / 2, count), ha='center', va='bottom')\n",
    "\n",
    "plt.show()\n",
    "\n"
   ]
  },
  {
   "cell_type": "markdown",
   "id": "7a88e34c",
   "metadata": {},
   "source": [
    "By examining the histogram, we can observe the frequency of properties falling within each affordability range. This helps us understand the extent of housing affordability challenges in the region. Higher bars indicate a larger number of properties within a particular affordability range, while lower bars suggest fewer properties.\n",
    "\n",
    "\n",
    "It helps us identify areas of concern and develop strategies to address housing affordability challenges effectively.\n",
    "It helps us make informed decisions, prioritize interventions, and work towards creating a more affordable housing market for the community.\n"
   ]
  },
  {
   "cell_type": "markdown",
   "id": "8338bc75",
   "metadata": {},
   "source": [
    "## Conclusions"
   ]
  },
  {
   "cell_type": "markdown",
   "id": "c2b19f3c",
   "metadata": {},
   "source": [
    "On the analysis that have been carried out in this project, here are some of them:\n",
    "\n",
    "- The analysis of price-to-size ratio and affordability thresholds provides insights into the housing affordability challenges in the region. There reveals the distribution of affordability ranges, allowing County Goverment to identify areas where housing may be more or less affordable. This information can guide discussions and policy decisions to address affordability gaps and prioritize interventions to make housing more accessible to a wider range of residents.\n",
    "\n",
    "There is a positive relationship between property size (sqft_lot) and sale price. As the size of the property increases, the sale price tends to increase as well. This suggests that larger properties generally command higher prices in the market.\n"
   ]
  },
  {
   "cell_type": "markdown",
   "id": "fdf6234c",
   "metadata": {},
   "source": [
    " The conclusions drawn from the analysis can guide county Government in making strategic decisions, such as identifying profitable investment opportunities, prioritizing safety measures, and implementing policies to enhance housing affordability in the region."
   ]
  },
  {
   "cell_type": "markdown",
   "id": "ad323373",
   "metadata": {},
   "source": [
    "## Recommendations"
   ]
  },
  {
   "cell_type": "markdown",
   "id": "c1afac08",
   "metadata": {},
   "source": [
    "Here are some of the recommendations:\n",
    "\n",
    "The analysis of housing affordability highlights the need to address affordability challenges in the region. County Government should consider implementing measures to increase the availability of affordable housing options, such as incentivizing the development of affordable housing units, encouraging mixed-income developments, or exploring partnerships with nonprofit organizations to create affordable housing initiatives. This can help make housing more accessible and affordable for a broader range of residents."
   ]
  },
  {
   "cell_type": "markdown",
   "id": "6d1af351",
   "metadata": {},
   "source": [
    "Foster Collaboration and Partnerships: Addressing housing challenges requires collaboration among various other stakeholders, including developers, community organizations, and residents. Foster partnerships and collaborative efforts to create comprehensive and sustainable solutions. Engage in dialogue with County Government to understand their perspectives, gather input, and collectively work towards improving housing conditions in the region."
   ]
  },
  {
   "cell_type": "markdown",
   "id": "31d3a3ec",
   "metadata": {},
   "source": [
    "Continuous Data Analysis: To ensure ongoing monitoring and effective decision-making, it is crucial to establish a system for continuous data analysis. Regularly collect and analyze relevant housing market data, safety indicators, and affordability metrics to track progress, identify emerging trends, and make informed adjustments to strategies and policies."
   ]
  },
  {
   "cell_type": "markdown",
   "id": "a7752b05",
   "metadata": {},
   "source": [
    "By implementing these recommendations, County Government can contribute to the improvement of the housing market, address affordability challenges, enhance safety conditions, and foster sustainable and inclusive communities in the region"
   ]
  }
 ],
 "metadata": {
  "kernelspec": {
   "display_name": "Python 3 (ipykernel)",
   "language": "python",
   "name": "python3"
  },
  "language_info": {
   "codemirror_mode": {
    "name": "ipython",
    "version": 3
   },
   "file_extension": ".py",
   "mimetype": "text/x-python",
   "name": "python",
   "nbconvert_exporter": "python",
   "pygments_lexer": "ipython3",
   "version": "3.10.11"
  }
 },
 "nbformat": 4,
 "nbformat_minor": 5
}
